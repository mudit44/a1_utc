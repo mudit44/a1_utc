{
 "cells": [
  {
   "cell_type": "code",
   "execution_count": 1,
   "metadata": {
    "collapsed": true
   },
   "outputs": [],
   "source": [
    "def seconds_difference(time_1, time_2):\n",
    "    \"\"\" (number, number) -> number\n",
    "\n",
    "    Return the number of seconds later that a time in seconds\n",
    "    time_2 is than a time in seconds time_1.\n",
    "        \n",
    "    >>> seconds_difference(1800.0, 3600.0)\n",
    "    1800.0\n",
    "    >>> seconds_difference(3600.0, 1800.0)\n",
    "    -1800.0\n",
    "    >>> seconds_difference(1800.0, 2160.0)\n",
    "    360.0\n",
    "    >>> seconds_difference(1800.0, 1800.0)\n",
    "    0.0\n",
    "    \"\"\"\n",
    "    return(time_2 - time_1)"
   ]
  },
  {
   "cell_type": "code",
   "execution_count": 2,
   "metadata": {
    "collapsed": true
   },
   "outputs": [],
   "source": [
    "def hours_difference(time_1, time_2):\n",
    "    \"\"\" (number, number) -> float\n",
    "\n",
    "    Return the number of hours later that a time in seconds\n",
    "    time_2 is than a time in seconds time_1.\n",
    "        \n",
    "    >>> hours_difference(1800.0, 3600.0)\n",
    "    0.5\n",
    "    >>> hours_difference(3600.0, 1800.0)\n",
    "    -0.5\n",
    "    >>> hours_difference(1800.0, 2160.0)\n",
    "    0.1\n",
    "    >>> hours_difference(1800.0, 1800.0)\n",
    "    0.0\n",
    "    \"\"\"\n",
    "    return((time_2 - time_1)/3600)"
   ]
  },
  {
   "cell_type": "code",
   "execution_count": 3,
   "metadata": {
    "collapsed": true
   },
   "outputs": [],
   "source": [
    "def to_float_hours(hours, minutes, seconds):\n",
    "    \"\"\" (int, int, int) -> float\n",
    "\n",
    "    Return the total number of hours in the specified number\n",
    "    of hours, minutes, and seconds.\n",
    "\n",
    "    Precondition: 0 <= minutes < 60  and  0 <= seconds < 60\n",
    "\n",
    "    >>> to_float_hours(0, 15, 0)\n",
    "    0.25\n",
    "    >>> to_float_hours(2, 45, 9)\n",
    "    2.7525\n",
    "    >>> to_float_hours(1, 0, 36)\n",
    "    1.01\n",
    "    \"\"\"\n",
    "    add = ((hours * 3600) + (minutes * 60) + seconds ) / 3600\n",
    "    return(add)"
   ]
  },
  {
   "cell_type": "code",
   "execution_count": 4,
   "metadata": {
    "collapsed": true
   },
   "outputs": [],
   "source": [
    "def to_24_hour_clock(hours):\n",
    "    \"\"\" (number) -> number\n",
    "\n",
    "    hours is a number of hours since midnight. Return the\n",
    "    hour as seen on a 24-hour clock.\n",
    "\n",
    "    Precondition: hours >= 0\n",
    "\n",
    "    >>> to_24_hour_clock(24)\n",
    "    0\n",
    "    >>> to_24_hour_clock(48)\n",
    "    0\n",
    "    >>> to_24_hour_clock(25)\n",
    "    1\n",
    "    >>> to_24_hour_clock(4)\n",
    "    4\n",
    "    >>> to_24_hour_clock(28.5)\n",
    "    4.5\n",
    "    \"\"\"\n",
    "\n",
    "    return hours % 24"
   ]
  },
  {
   "cell_type": "markdown",
   "metadata": {},
   "source": [
    "### Write your get_hours function definition here:"
   ]
  },
  {
   "cell_type": "code",
   "execution_count": 15,
   "metadata": {},
   "outputs": [
    {
     "data": {
      "text/plain": [
       "3"
      ]
     },
     "execution_count": 15,
     "metadata": {},
     "output_type": "execute_result"
    }
   ],
   "source": [
    "def get_hours(seconds):\n",
    "    t = seconds // 3600\n",
    "    if (t > 24.0):\n",
    "        t = t // 24\n",
    "        return(t)\n",
    "    else:\n",
    "        return(t)\n",
    "    "
   ]
  },
  {
   "cell_type": "code",
   "execution_count": 6,
   "metadata": {},
   "outputs": [],
   "source": [
    "def get_minutes(seconds):\n",
    "    t = seconds % 3600\n",
    "    t = t//60\n",
    "    return(t)\n",
    "\n"
   ]
  },
  {
   "cell_type": "code",
   "execution_count": 7,
   "metadata": {},
   "outputs": [],
   "source": [
    "def get_seconds(seconds):\n",
    "    t = seconds % 3600\n",
    "    t = t % 60\n",
    "    return(t)\n"
   ]
  },
  {
   "cell_type": "code",
   "execution_count": 8,
   "metadata": {},
   "outputs": [],
   "source": [
    "def time_to_utc(utc_offset, time):\n",
    "    \"\"\" (number, float) -> float\n",
    "\n",
    "    Return time at UTC+0, where utc_offset is the number of hours away from\n",
    "    UTC+0.\n",
    "\n",
    "    >>> time_to_utc(+0, 12.0)\n",
    "    12.0\n",
    "    >>> time_to_utc(+1, 12.0)\n",
    "    11.0\n",
    "    >>> time_to_utc(-1, 12.0)\n",
    "    13.0\n",
    "    >>> time_to_utc(-11, 18.0)\n",
    "    5.0\n",
    "    >>> time_to_utc(-1, 0.0)\n",
    "    1.0\n",
    "    >>> time_to_utc(-1, 23.0)\n",
    "    0.0\n",
    "    \"\"\"\n",
    "    t = time - utc_offset\n",
    "    if(t == 24.0):\n",
    "        t = 0.0\n",
    "        return(t)\n",
    "    elif(t > 24.0):\n",
    "        t = t - 24.0\n",
    "        return(t)\n",
    "    elif(t < 0.0):\n",
    "        t = 24.0 + t\n",
    "        return(t)\n",
    "    else:\n",
    "        return(t)\n",
    "        "
   ]
  },
  {
   "cell_type": "code",
   "execution_count": 16,
   "metadata": {
    "collapsed": true
   },
   "outputs": [],
   "source": [
    "def time_from_utc(utc_offset, time):\n",
    "    \"\"\" (number, float) -> float\n",
    "\n",
    "    Return UTC time in time zone utc_offset.\n",
    "\n",
    "    >>> time_from_utc(+0, 12.0)\n",
    "    12.0\n",
    "    >>> time_from_utc(+1, 12.0)\n",
    "    13.0\n",
    "    >>> time_from_utc(-1, 12.0)\n",
    "    11.0\n",
    "    >>> time_from_utc(+6, 6.0)\n",
    "    12.0\n",
    "    >>> time_from_utc(-7, 6.0)\n",
    "    23.0\n",
    "    >>> time_from_utc(-1, 0.0)\n",
    "    23.0\n",
    "    >>> time_from_utc(-1, 23.0)\n",
    "    22.0\n",
    "    >>> time_from_utc(+1, 23.0)\n",
    "    0.0\n",
    "    \"\"\"\n",
    "    t = time + utc_offset\n",
    "    if (t < 0.0):\n",
    "        t = 24.0 + t\n",
    "        return(t)\n",
    "    elif(t == 24.0):\n",
    "        t = 0.0\n",
    "        return(t)\n",
    "    else:\n",
    "        return(t)\n",
    "        "
   ]
  },
  {
   "cell_type": "code",
   "execution_count": null,
   "metadata": {
    "collapsed": true
   },
   "outputs": [],
   "source": []
  }
 ],
 "metadata": {
  "kernelspec": {
   "display_name": "Python 3",
   "language": "python",
   "name": "python3"
  },
  "language_info": {
   "codemirror_mode": {
    "name": "ipython",
    "version": 3
   },
   "file_extension": ".py",
   "mimetype": "text/x-python",
   "name": "python",
   "nbconvert_exporter": "python",
   "pygments_lexer": "ipython3",
   "version": "3.6.3"
  }
 },
 "nbformat": 4,
 "nbformat_minor": 2
}
